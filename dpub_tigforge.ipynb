{
 "cells": [
  {
   "cell_type": "markdown",
   "id": "cf6bad07-dbc0-4e2f-bc4d-ab23f17fa5e3",
   "metadata": {},
   "source": [
    "# Testing tig and forge on a collection\n",
    "## PO.DAAC Data Publication Team\n",
    "#### *Author: Dean Henze*\n",
    "\n",
    "This notebook can be used to test\n",
    "1. Generation of a tig-forge configuration file from a test granule.\n",
    "2. Use of the config file and a test granule with tig to generate image thumbnails (used in HiTIDE GUI).\n",
    "3. Use of the config file and a test granule with forge to generate granule footprints (used to visualize individual granule footprints in both HiTIDE and Earthdata Search).\n",
    "\n",
    "Tests 2 and 3 can be run separately of each other. For example, a DPub engineer might decide that their collection requires footprints for Earthdata search, but won't be part of HiTIDE (and therefore doesn't require image thumbnails).\n",
    "\n",
    "This notebook uses the tig and forge software, which are maintained by the TVA team. The tig and forge repos can be found at:\n",
    "* https://github.com/podaac/tig\n",
    "* https://github.com/podaac/forge\n",
    "\n",
    "tig is available as a python package and instructions on obtaining it are in the following section. forge is a java program and is installed as part of Section 3. "
   ]
  },
  {
   "cell_type": "markdown",
   "id": "05670574-b985-4b73-95a9-57277ad6f0b1",
   "metadata": {},
   "source": [
    "# Import Python Libraries"
   ]
  },
  {
   "cell_type": "markdown",
   "id": "e0d1482a-e8be-4d07-ab59-87d91bcd0b6c",
   "metadata": {},
   "source": [
    "### Packages other than `podaac-tig`"
   ]
  },
  {
   "cell_type": "code",
   "execution_count": null,
   "id": "116ed83f-6028-4dae-93b5-5c99c0e781e0",
   "metadata": {},
   "outputs": [],
   "source": [
    "import os\n",
    "import shutil\n",
    "import json\n",
    "import numpy as np\n",
    "import matplotlib.pyplot as plt\n",
    "import cartopy\n",
    "%matplotlib inline"
   ]
  },
  {
   "cell_type": "markdown",
   "id": "42825a97-f4e7-48e3-9af5-6a70f9bd8162",
   "metadata": {},
   "source": [
    "### `podaac-tig` package"
   ]
  },
  {
   "cell_type": "markdown",
   "id": "7987eed5-eef0-45e8-9c5d-d3f695b13158",
   "metadata": {},
   "source": [
    "The podaac-tig library is in https://pypi.org/project/podaac-tig/ , so pypi should be added to your `~/pip/pip.conf` file before using pip to install the package. E.g. the `pip.conf` should have the lines\n",
    "```\n",
    "[global]\n",
    "index-url = https://pypi.org/simple\n",
    "trusted-host = pypi.org\n",
    "```\n",
    "Then the podaac-tig library can be installed with \n",
    "```\n",
    "pip install podaac-tig==0.8.0\n",
    "```"
   ]
  },
  {
   "cell_type": "code",
   "execution_count": null,
   "id": "7aa232dc-95a5-4368-933a-9b3d5d4d0173",
   "metadata": {},
   "outputs": [],
   "source": [
    "from podaac.tig import generate_hitide_config\n",
    "from podaac.tig import tig"
   ]
  },
  {
   "cell_type": "markdown",
   "id": "70ee4cb8-c341-43eb-873f-35ac7c00d217",
   "metadata": {},
   "source": [
    "# 1. Generate config file\n",
    "\n",
    "The config file can be used to either generate footprints with forge, or thumbnails with tig (which ever are relevant to your data set). The config file will be saved as `<collection-short-name>.cfg`. \n",
    "\n",
    "Required files/directories to have in the same directory as this notebook:\n",
    "1. One or more test granules from the collection, in a folder `granules/`. This notebook assumes the file extensions are one of `.nc`, `.hdf`, or `.h5`.\n",
    "2. A CSV file named `vars.csv` with variable names to add to HiTIDE, along with the min/max values to use for each of their colorscales. The column headers should be `variable`, `min`, `max`. If no variables will go into HiTIDE, keep the CSV file empty with only a header row.\n",
    "\n",
    "Then, modify the lines in the following block of code (no other code in this Section needs modification)."
   ]
  },
  {
   "cell_type": "code",
   "execution_count": null,
   "id": "b3e61c95-068d-4181-be42-7ef268545be2",
   "metadata": {},
   "outputs": [],
   "source": [
    "## User to specify some input args to the generate config function:\n",
    "    # collection shortname:\n",
    "dataset_id = \"ASCATB_ESDR_L2_WIND_STRESS_V1.1\" \n",
    "    # csv file for min/max\n",
    "include_image_variables = \"./vars.csv\" \n",
    "    # str's, names of coords in file:\n",
    "longitude = 'lon' \n",
    "latitude = 'lat'\n",
    "time = 'time'\n",
    "    # footprint strategy. str, usually 'periodic'. For a full list of strategy options, see section 5.1.\n",
    "footprint_strategy = 'periodic'"
   ]
  },
  {
   "cell_type": "markdown",
   "id": "5c60b68c-e6b2-4cfb-90e1-bc2ce2268c80",
   "metadata": {},
   "source": [
    "No need for modification from here on:"
   ]
  },
  {
   "cell_type": "code",
   "execution_count": null,
   "id": "95cce3fd-223c-4ee3-b7c2-56e9fe0afc0d",
   "metadata": {},
   "outputs": [],
   "source": [
    "# Clone the forge-tig-configuration repo (https://github.com/podaac/forge-tig-configuration):\n",
    "!git clone git@github.com:podaac/forge-tig-configuration.git"
   ]
  },
  {
   "cell_type": "code",
   "execution_count": null,
   "id": "9385502e-fcf1-43e5-b0a2-9faa42e5ae13",
   "metadata": {},
   "outputs": [],
   "source": [
    "# Path to directory of granules to test:\n",
    "dir_granules_test = \"./granules/\"\n",
    "# Path to color palettes directory (requires that the forge-tig-configuration repo was cloned into this directory):\n",
    "palette_dir = \"./forge-tig-configuration/palettes\"\n",
    "# Path to the config file\n",
    "config_file=\"./\" + dataset_id + \".cfg\""
   ]
  },
  {
   "cell_type": "code",
   "execution_count": null,
   "id": "1c7f4a95-e3c3-4b1f-930e-942c2c846edc",
   "metadata": {},
   "outputs": [],
   "source": [
    "# Generaterate the config file and print file contents to notebook:\n",
    "gran_paths = [dir_granules_test + f for f in os.listdir(dir_granules_test) if f.endswith((\".nc\", \".hdf\", \".h5\"))]\n",
    "\n",
    "cfg = generate_hitide_config.generate_hitide_config(\n",
    "    gran_paths[0],\n",
    "    dataset_id,\n",
    "    include_image_variables,\n",
    "    longitude, latitude, time,\n",
    "    footprint_strategy\n",
    "    )\n",
    "\n",
    "with open(dataset_id + '.cfg', 'w') as fp:\n",
    "    json.dump(cfg, fp, indent=4)"
   ]
  },
  {
   "cell_type": "markdown",
   "id": "949796f4-04f6-4fad-adf9-585710700985",
   "metadata": {},
   "source": [
    "# 2. Tig thumbnail image generation\n",
    "No code in this section should need modification other than special cases."
   ]
  },
  {
   "cell_type": "code",
   "execution_count": null,
   "id": "87395a75-4d8b-4791-948a-cf9ce0184c29",
   "metadata": {},
   "outputs": [],
   "source": [
    "# save the thumbnail images here:\n",
    "output_dir=\"./images/\" \n",
    "!mkdir $output_dir"
   ]
  },
  {
   "cell_type": "code",
   "execution_count": null,
   "id": "73db8cd6-8df6-4c36-a27e-f8f93a5d052e",
   "metadata": {},
   "outputs": [],
   "source": [
    "## Generate thumbnails for all test granules:\n",
    "for g in gran_paths:\n",
    "    # Specify some additional inputs for the tig class object:\n",
    "    input_file = g # test granule\n",
    "    granule_id = input_file.split('/')[-1]\n",
    "\n",
    "    # Run tig and generate the images:\n",
    "    image_gen = tig.TIG(input_file, output_dir, config_file, palette_dir)\n",
    "    image_gen.generate_images(granule_id=granule_id)"
   ]
  },
  {
   "cell_type": "code",
   "execution_count": null,
   "id": "0c86d8b8-2892-42da-a588-fff0a0455203",
   "metadata": {},
   "outputs": [],
   "source": [
    "## Test plots of all images:\n",
    "image_files = [output_dir+f for f in os.listdir(output_dir) if f.endswith(\".png\")]\n",
    "fig, axes = plt.subplots(len(image_files),1, figsize=(14, 6*len(image_files)))\n",
    "for f, ax in zip(image_files, axes):\n",
    "    img = plt.imread(f)\n",
    "    im = ax.imshow(img)\n",
    "    ax.set_title(f.split(\".\")[-2])\n",
    "    #plt.axis(\"off\")\n",
    "plt.show()"
   ]
  },
  {
   "cell_type": "markdown",
   "id": "ed46bc94-b097-47d3-8215-be75bc04e9b0",
   "metadata": {},
   "source": [
    "# 3. Forge footprint generation\n",
    "No code in this section should need modification other than special cases."
   ]
  },
  {
   "cell_type": "markdown",
   "id": "e21e2219-4904-47ee-9e13-7b535831f5b7",
   "metadata": {},
   "source": [
    "## 3.1 Download and run forge software:\n",
    "Note, `forge` is Java software and requires Java 11+"
   ]
  },
  {
   "cell_type": "code",
   "execution_count": null,
   "id": "c209befd-d402-43d8-9a5f-99f4567482a9",
   "metadata": {},
   "outputs": [],
   "source": [
    "!curl -L -O https://github.com/podaac/forge/releases/download/0.9.0/footprint_0.9.0.jar"
   ]
  },
  {
   "cell_type": "code",
   "execution_count": null,
   "id": "21e412c2-c7a9-405e-a2f3-d25ce0386129",
   "metadata": {
    "tags": []
   },
   "outputs": [],
   "source": [
    "# Directory to store output in:\n",
    "!mkdir footprints"
   ]
  },
  {
   "cell_type": "code",
   "execution_count": null,
   "id": "eaffd301-5d19-43a3-8473-e66943fbe939",
   "metadata": {},
   "outputs": [],
   "source": [
    "# Run forge for all test granules:\n",
    "for g in gran_paths:\n",
    "    \n",
    "    granule_id = g.split('/')[-1]\n",
    "    \n",
    "    # Specify output filenames:\n",
    "    fn_forge_output = \"footprints/\" + granule_id + \".forge_output.txt\" # All output from forge\n",
    "    fn_wkt = \"footprints/\" + granule_id + \".footprint.wkt\" # only the footprint polygon results\n",
    "\n",
    "    # Run forge and save output to file:\n",
    "    !java -cp ./footprint_0.9.0.jar FootprintCLI $g $config_file >> $fn_forge_output\n",
    "    # Extract footprint (WKT polygon) from forge output\n",
    "    !cat $fn_forge_output | grep POLYGON >> $fn_wkt"
   ]
  },
  {
   "cell_type": "markdown",
   "id": "cdce09bc-bb9d-4c63-bff7-fa373e1665c9",
   "metadata": {
    "tags": []
   },
   "source": [
    "## 3.2 Unpack WKT polygon info and plot\n",
    "\n",
    "Unpacking assumes that the WKT file has the following format:\n",
    "```\n",
    "\"Polygon ((<lon1 lat1>, <lon2 lat2>, ... <lonN latN>))\"\n",
    "```\n",
    "where e.g. `<lat1 lon1>` is the first latitue longitude coordinate separated by a blank `\" \"`, and each latitude longintude pair is separated by a comma."
   ]
  },
  {
   "cell_type": "code",
   "execution_count": null,
   "id": "1e09c6a2-e8dc-42d1-a572-3bcf6a2fa23d",
   "metadata": {},
   "outputs": [],
   "source": [
    "def unpack_poly(fn_wkt):\n",
    "    \"\"\"\n",
    "    Unpack polygon lat, lon point info for a WKT footprint file into two lists. \n",
    "    'fn_wkt' is the path (str) to the WKT file.\n",
    "    \"\"\"\n",
    "    \n",
    "    with open(fn_wkt, 'r') as f:\n",
    "        footprint_wkt = f.read().split(\"\\n\")\n",
    "        \n",
    "    if footprint_wkt[0][:7] == 'POLYGON': # If file starts off as expected, unpack.\n",
    "        \n",
    "        lons, lats = [], []\n",
    "        temp_fp = footprint_wkt[0].split(\"((\")[1].split(\"))\")[0]\n",
    "        \n",
    "        for polypoint in temp_fp.split(\",\"):\n",
    "            lon_p, lat_p = polypoint.split(\" \")[-2:]\n",
    "            lons.append(float(lon_p))\n",
    "            lats.append(float(lat_p))\n",
    "\n",
    "        # Add last point to end so can plot a closed polygon\n",
    "        lons.append(lons[0])\n",
    "        lats.append(lats[0])\n",
    "\n",
    "        return lons, lats\n",
    "    \n",
    "    elif \"LINESTRING\" in footprint_wkt[0]:\n",
    "        \n",
    "        temp_fp = footprint_wkt[0].split(\"(\")[1].split(\")\")[0]\n",
    "        \n",
    "        for polypoint in temp_fp.split(\",\"):\n",
    "            lon_p, lat_p = polypoint.split(\" \")[-2:]\n",
    "            lons.append(float(lon_p))\n",
    "            lats.append(float(lat_p))\n",
    "            \n",
    "        return lons, lats\n",
    "        \n",
    "    else:\n",
    "        print(\"WKT file format is not as expected. Please inspect file contents.\")\n",
    "        return None, None"
   ]
  },
  {
   "cell_type": "code",
   "execution_count": null,
   "id": "433cf729-6bd1-4a0a-818a-ce89a93ac69b",
   "metadata": {},
   "outputs": [],
   "source": [
    "wkt_files = [\"./footprints/\"+f for f in os.listdir(\"./footprints/\") if f.endswith(\".wkt\")]\n",
    "\n",
    "for fn_wkt in wkt_files:\n",
    "    # Unpack polygon lat, lon point info into two lists:\n",
    "    lons, lats = unpack_poly(fn_wkt) \n",
    "\n",
    "    # Plot polygon:\n",
    "    fig = plt.figure(figsize=(12, 8))\n",
    "    ax = plt.axes(projection=cartopy.crs.PlateCarree(central_longitude=0))\n",
    "    ax.plot(lons, lats)\n",
    "    \n",
    "    ax.gridlines()\n",
    "    ax.add_feature(cartopy.feature.OCEAN, zorder=0, facecolor='gainsboro')\n",
    "    ax.add_feature(cartopy.feature.LAND, zorder=0, edgecolor='black', linewidth=0.5, facecolor='gainsboro')"
   ]
  },
  {
   "cell_type": "markdown",
   "id": "a1f5b339-7912-42e5-82ca-f7de9ae02b13",
   "metadata": {},
   "source": [
    "# 4. Upload config file to forge-tig-configuration repo\n",
    "Create a PR for tig-forge-configuration repo: https://github.com/podaac/forge-tig-configuration\n",
    "\n",
    "1. Copy each short name .cfg file to the forge-tig-configuration repo under \"config-files\"\n",
    "2. Update the CHANGELOG.md in forge-tig-configuration listing your changes\n",
    "3. Commit and push the new updates in forge-tig-configuration to a new branch named \"feature/\\<name\\>\"\n",
    "    NOTE: The \\<name\\> can be anything you want to describe the collection you are adding\n",
    "4. Open a PR in forge-tig-configuration for this new branch\n",
    "5. In the PR, include reviewers James Wood and Simon Liu, and let them know it's ready in Slack"
   ]
  },
  {
   "cell_type": "code",
   "execution_count": null,
   "id": "e585530f-f8af-4b62-9f2e-aa651c1c8d14",
   "metadata": {},
   "outputs": [],
   "source": [
    "# 1. Copies the .cfg file to the required folder:\n",
    "shutil.copyfile(config_file, \"./forge-tig-configuration/config-files/\" + config_file.split(\"/\")[-1])"
   ]
  },
  {
   "cell_type": "markdown",
   "id": "d13091bf-766e-4f24-8443-fb0469f52dda",
   "metadata": {},
   "source": [
    "Update `CHANGELOG.md`:\n",
    "Add the following lines, modified as needed to reflect changes, e.g.:\n",
    "```\n",
    "## [Released] - yyyy-mm-dd\n",
    "\n",
    "### Added\n",
    " - Added config for <shortname>\n",
    "### Changed\n",
    "### Deprecated\n",
    "### Removed\n",
    "### Fixed\n",
    "### Security\n",
    "\n",
    "```\n",
    "\n",
    "Commands for committing and pushing to new branch once inside the directory `forge-tig-configuration`:\n",
    "\n",
    "```\n",
    "cd forge-tig-configuration\n",
    "git branch feature/<name>\n",
    "git checkout feature/<name>\n",
    "git add config-files/<shortname.cfg> CHANGELOG.md\n",
    "git commit -m \"<commit message>\"\n",
    "git push -u origin feature/<name>\n",
    "```\n",
    "\n",
    "Then create a PR in https://github.com/podaac/forge-tig-configuration, include reviewers James Wood and Simon Liu, and let them know it's ready in Slack"
   ]
  },
  {
   "cell_type": "markdown",
   "id": "ef628178-2ffc-47ce-bcbd-50f9aea61a70",
   "metadata": {},
   "source": [
    "# 5. Other notes"
   ]
  },
  {
   "cell_type": "markdown",
   "id": "46161397-16a1-45e4-99e7-229217545279",
   "metadata": {},
   "source": [
    "## 5.1 Footprint Strategies\n",
    "\n",
    "The current options for footprint strategy are *periodic*, *linestring*, *polar*, *polarsides*, *smap*, and *swot_linestring*.\n",
    "\n",
    "Below are examples of collections that use each strategy:\n",
    "\n",
    "**periodic**\n",
    "\n",
    "* AQUARIUS_L2_SSS_V4\n",
    "* AQUARIUS_L2_SSS_V5\n",
    "* QSCAT_LEVEL_2B_OWV_COMP_12_KUSST_LCRES_4.1\n",
    "* QSCAT_LEVEL_2B_OWV_COMP_12_LCR_3.1\n",
    "* VIIRS_NPP-NAVO-L2P-v1.0\n",
    "* AVHRRF_MC-STAR-L2P-v2.80\n",
    "* ASCATC-L2-25km\n",
    "* AMSR2-REMSS-L2P-v8.2\n",
    "* VIIRS_NPP-NAVO-L2P-v3.0\n",
    "* ASCATA-L2-Coastal\n",
    "* AMSR2-REMSS-L2P_RT-v8.2\n",
    "* SWOT_SIMULATED_L2_KARIN_SSH_GLORYS_CALVAL_V1\n",
    "* VIIRS_NPP-OSPO-L2P-v2.41\n",
    "* ASCATC-L2-Coastal\n",
    "* MODIS_T-JPL-L2P-v2019.0\n",
    "* VIIRS_N20-OSPO-L2P-v2.61\n",
    "* RSCAT_LEVEL_2B_OWV_COMP_12_V1.2\n",
    "* AVHRR_SST_METOP_B-OSISAF-L2P-v1.0\n",
    "* VIIRS_NPP-JPL-L2P-v2016.2\n",
    "* VIIRS_NPP-NAVO-L2P-v2.0\n",
    "* RSCAT_LEVEL_2B_OWV_COMP_12_V1.1\n",
    "* ASCATB-L2-Coastal\n",
    "* MODIS_A-JPL-L2P-v2019.0\n",
    "\n",
    "\n",
    "**linestring**\n",
    "\n",
    "* JASON-1_L2_OST_GPS_E.\n",
    "* JASON_CS_S6A_L2_ALT_HR_STD_OST_NRT_F\n",
    "* JASON-1_L2_OST_GPN_E\n",
    "* JASON_CS_S6A_L2_ALT_LR_STD_OST_STC_F\n",
    "* JASON_3_L2_OST_OGDR_GPS\n",
    "* JASON_CS_S6A_L2_ALT_LR_RED_OST_NRT_F\n",
    "* JASON-1_L2_OST_GPR_E\n",
    "* SWOT_SIMULATED_L2_NADIR_SSH_GLORYS_CALVAL_V1\n",
    "* JASON_CS_S6A_L2_ALT_HR_RED_OST_STC_F\n",
    "* OSTM_L2_OST_OGDR_GPS\n",
    "* SWOT_SIMULATED_L2_NADIR_SSH_GLORYS_SCIENCE_V1\n",
    "* JASON_CS_S6A_L2_ALT_HR_STD_OST_STC_F\n",
    "* JASON_CS_S6A_L2_AMR_RAD_STC\n",
    "* MERGED_TP_J1_OSTM_OST_CYCLES_V42\n",
    "* SWOT_SIMULATED_L2_NADIR_SSH_ECCO_LLC4320_SCIENCE_V1\n",
    "* JASON_CS_S6A_L2_ALT_LR_STD_OST_NRT_F\n",
    "* ALTIKA_SARAL_L2_OST_XOGDR\n",
    "* JASON_CS_S6A_L2_ALT_LR_RED_OST_STC_F\n",
    "* SWOT_SIMULATED_L2_NADIR_SSH_ECCO_LLC4320_CALVAL_V1\n",
    "* JASON_CS_S6A_L2_AMR_RAD_NRT\n",
    "* JASON_CS_S6A_L2_ALT_HR_RED_OST_NRT_F\n",
    "\n",
    "**polar**\n",
    "\n",
    "* NAVO-L2P-AVHRR19_G\n",
    "* AVHRR19_G-NAVO-L2P-v1.0\n",
    "\n",
    "**polarsides**\n",
    "\n",
    "* OS2_OSCAT_LEVEL_2B_OWV_COMP_12_V2\n",
    "* AVHRRMTA_G-NAVO-L2P-v1.0\n",
    "* AVHRRMTB_G-NAVO-L2P-v1.0\n",
    "* SMAP_JPL_L2B_NRT_SSS_CAP_V5\n",
    "\n",
    "**smap**\n",
    "\n",
    "* SMAP_RSS_L2_SSS_V5                \n",
    "* SMAP_RSS_L2_SSS_V4            \n",
    "* SMAP_JPL_L2B_SSS_CAP_V5\n",
    "\n",
    "**swot_linestring**\n",
    "\n",
    "* SWOT_L2_NALT_IGDR_1.0\n",
    "* SWOT_L2_NALT_IGDR_2.0\n",
    "* SWOT_L2_NALT_OGDR_2.0\n",
    "* SWOT_L2_NALT_GDR_SSHA_1.0\n",
    "* SWOT_L2_NALT_IGDR_SSHA_1.0\n",
    "* SWOT_L2_NALT_OGDR_SSHA_2.0\n",
    "* SWOT_L2_NALT_OGDR_1.0\n",
    "* SWOT_L2_NALT_IGDR_SSHA_2.0\n",
    "* SWOT_L2_NALT_GDR_SSHA_2.0\n",
    "* SWOT_L2_NALT_OGDR_SSHA_1.0"
   ]
  },
  {
   "cell_type": "code",
   "execution_count": null,
   "id": "30817625-9590-4f05-b680-ca69fe24c7ff",
   "metadata": {},
   "outputs": [],
   "source": []
  }
 ],
 "metadata": {
  "kernelspec": {
   "display_name": "Python 3 (ipykernel)",
   "language": "python",
   "name": "python3"
  },
  "language_info": {
   "codemirror_mode": {
    "name": "ipython",
    "version": 3
   },
   "file_extension": ".py",
   "mimetype": "text/x-python",
   "name": "python",
   "nbconvert_exporter": "python",
   "pygments_lexer": "ipython3",
   "version": "3.11.3"
  }
 },
 "nbformat": 4,
 "nbformat_minor": 5
}
